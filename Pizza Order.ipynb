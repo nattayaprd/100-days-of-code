{
 "cells": [
  {
   "cell_type": "code",
   "execution_count": null,
   "id": "c99ded25",
   "metadata": {},
   "outputs": [],
   "source": [
    "#Pizza Order\n",
    "\n",
    "print(\"Welcome to Python Pizza Deliveries!\")\n",
    "size = input(\"What size pizza do you want? S, M, or L \")\n",
    "add_pepperoni = input(\"Do you want pepperoni? Y or N \")\n",
    "extra_cheese = input(\"Do you want extra cheese? Y or N \")\n",
    "\n",
    "final_bill = 0\n",
    "\n",
    "if size == \"S\":\n",
    "    final_bill = 15\n",
    "    if add_pepperoni == \"Y\":\n",
    "        final_bill += 2\n",
    "    if extra_cheese == \"Y\":\n",
    "        final_bill += 1\n",
    "    print(f\"Your final bill is: ${final_bill}.\")\n",
    "        \n",
    "if size == \"M\":\n",
    "    final_bill = 20\n",
    "    if add_pepperoni == \"Y\":\n",
    "        final_bill += 3\n",
    "    if extra_cheese == \"Y\":\n",
    "        final_bill += 1    \n",
    "    print(f\"Your final bill is: ${final_bill}.\")\n",
    "    \n",
    "if size == \"L\":\n",
    "    final_bill = 25\n",
    "    if add_pepperoni == \"Y\":\n",
    "        final_bill += 3\n",
    "    if extra_cheese == \"Y\":\n",
    "        final_bill += 1\n",
    "    print(f\"Your final bill is: ${final_bill}.\")"
   ]
  }
 ],
 "metadata": {
  "kernelspec": {
   "display_name": "Python 3 (ipykernel)",
   "language": "python",
   "name": "python3"
  },
  "language_info": {
   "codemirror_mode": {
    "name": "ipython",
    "version": 3
   },
   "file_extension": ".py",
   "mimetype": "text/x-python",
   "name": "python",
   "nbconvert_exporter": "python",
   "pygments_lexer": "ipython3",
   "version": "3.9.12"
  }
 },
 "nbformat": 4,
 "nbformat_minor": 5
}
