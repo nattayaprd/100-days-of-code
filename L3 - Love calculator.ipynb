{
 "cells": [
  {
   "cell_type": "code",
   "execution_count": null,
   "id": "15881daa",
   "metadata": {},
   "outputs": [],
   "source": [
    "#Love calculator\n",
    "\n",
    "print(\"Welcome to the Love Calculator!\")\n",
    "name1 = input(\"What is your name? \\n\")\n",
    "name2 = input(\"What is your name? \\n\")\n",
    "\n",
    "lower_case_name1 = name1 .lower()\n",
    "lower_case_name2 = name2 .lower()\n",
    "\n",
    "t_name1 = int(lower_case_name1 .count(\"t\"))\n",
    "r_name1 = int(lower_case_name1 .count(\"r\"))\n",
    "u_name1 = int(lower_case_name1 .count(\"u\"))\n",
    "e_name1 = int(lower_case_name1 .count(\"e\"))\n",
    "\n",
    "l_name1 = int(lower_case_name1 .count(\"l\"))\n",
    "o_name1 = int(lower_case_name1 .count(\"o\"))\n",
    "v_name1 = int(lower_case_name1 .count(\"v\"))\n",
    "e2_name1 = int(lower_case_name1 .count(\"e\"))\n",
    "\n",
    "t_name2 = int(lower_case_name2 .count(\"t\"))\n",
    "r_name2 = int(lower_case_name2 .count(\"r\"))\n",
    "u_name2 = int(lower_case_name2 .count(\"u\"))\n",
    "e_name2 = int(lower_case_name2 .count(\"e\"))\n",
    "\n",
    "l_name2 = int(lower_case_name2 .count(\"l\"))\n",
    "o_name2 = int(lower_case_name2 .count(\"o\"))\n",
    "v_name2 = int(lower_case_name2 .count(\"v\"))\n",
    "e2_name2 = int(lower_case_name2 .count(\"e\"))\n",
    "\n",
    "first_digit = t_name1 + r_name1 + u_name1 + e_name1 + t_name2 + r_name2 + u_name2 + e_name2\n",
    "second_digit = l_name1 + o_name1 + v_name1 + e2_name1 +l_name2 + o_name2 + v_name2 + e2_name2\n",
    "\n",
    "int_percent = int(str(first_digit)+str(second_digit))\n",
    "\n",
    "if int_percent < 10 or int_percent > 90:\n",
    "    print(f\"Your score is {int_percent}%, you go together like coke and mentos.\")\n",
    "elif int_percent >=40 and int_percent <=50:\n",
    "    print(f\"Your score is {int_percent}%, you are alright together.\")\n",
    "else:\n",
    "    print(f\"Your score is {int_percent}%.\")"
   ]
  }
 ],
 "metadata": {
  "kernelspec": {
   "display_name": "Python 3 (ipykernel)",
   "language": "python",
   "name": "python3"
  },
  "language_info": {
   "codemirror_mode": {
    "name": "ipython",
    "version": 3
   },
   "file_extension": ".py",
   "mimetype": "text/x-python",
   "name": "python",
   "nbconvert_exporter": "python",
   "pygments_lexer": "ipython3",
   "version": "3.9.12"
  }
 },
 "nbformat": 4,
 "nbformat_minor": 5
}
