{
 "cells": [
  {
   "cell_type": "code",
   "execution_count": null,
   "id": "9b228f39",
   "metadata": {},
   "outputs": [],
   "source": [
    "#BMI Calculator 2.0\n",
    "\n",
    "height = input(\"enter your height in m: \")\n",
    "weight = input(\"enter your weight in kg: \")\n",
    "\n",
    "bmi = round(int(weight) / (float(height) ** 2))\n",
    "\n",
    "bmi_last=float(bmi)\n",
    "print(f\"Your BMI is {bmi_last}\")\n",
    "\n",
    "if bmi_last < 18.5:\n",
    "    print(\"You are underweight.\")\n",
    "elif bmi_last  < 25:\n",
    "    print(\"You have a normal weight.\")\n",
    "elif bmi_last < 30:\n",
    "    print(\"You are overweight.\")\n",
    "elif bmi_last < 35:\n",
    "    print(\"You are obese.\")\n",
    "elif bmi_last > 35:\n",
    "    print(\"You are clinically obese.\")"
   ]
  }
 ],
 "metadata": {
  "kernelspec": {
   "display_name": "Python 3 (ipykernel)",
   "language": "python",
   "name": "python3"
  },
  "language_info": {
   "codemirror_mode": {
    "name": "ipython",
    "version": 3
   },
   "file_extension": ".py",
   "mimetype": "text/x-python",
   "name": "python",
   "nbconvert_exporter": "python",
   "pygments_lexer": "ipython3",
   "version": "3.9.12"
  }
 },
 "nbformat": 4,
 "nbformat_minor": 5
}
