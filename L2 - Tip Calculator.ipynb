{
 "cells": [
  {
   "cell_type": "code",
   "execution_count": null,
   "id": "b806c581",
   "metadata": {},
   "outputs": [],
   "source": [
    "#Tip calculator\n",
    "\n",
    "print(\"Welcome to the Tip calculator.\")\n",
    "\n",
    "total = input(\"What was the total bill? $\")\n",
    "tip_percent = input(\"What percentage tip would you like to give? 10, 12, or 15? \")\n",
    "people = input(\"How many people to split the bill? \")\n",
    "\n",
    "total_f = float(total)\n",
    "tip_percent_f = float(tip_percent)\n",
    "people_i = int(people)\n",
    "\n",
    "tip_percent_mul = (tip_percent_f / 100) + 1\n",
    "\n",
    "result = (total_f * tip_percent_mul) / people_i\n",
    "result_r = round(result, 2)\n",
    "\n",
    "result_r = \"{:.2f}\".format(result) \n",
    "#คำสั่งที่ทำให้แสดงจุดทศนิยมสองตำแหน่งแม้ตำแหน่งสุดท้ายจะเป็น 0\n",
    "\n",
    "print (f\"Each person should pay: ${result_r}\")"
   ]
  }
 ],
 "metadata": {
  "kernelspec": {
   "display_name": "Python 3 (ipykernel)",
   "language": "python",
   "name": "python3"
  },
  "language_info": {
   "codemirror_mode": {
    "name": "ipython",
    "version": 3
   },
   "file_extension": ".py",
   "mimetype": "text/x-python",
   "name": "python",
   "nbconvert_exporter": "python",
   "pygments_lexer": "ipython3",
   "version": "3.9.12"
  }
 },
 "nbformat": 4,
 "nbformat_minor": 5
}
