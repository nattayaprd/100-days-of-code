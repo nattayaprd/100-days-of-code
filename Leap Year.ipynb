{
 "cells": [
  {
   "cell_type": "code",
   "execution_count": null,
   "id": "5d8451cf",
   "metadata": {},
   "outputs": [],
   "source": [
    "#Leap Year\n",
    "year = int(input(\"Which year do you want to check? \"))\n",
    "\n",
    "if year % 4 == 0:\n",
    "    if year % 100 == 0:\n",
    "            if year % 400 == 0:\n",
    "                print(\"Leap!\")\n",
    "            else:\n",
    "                print(\"Not a Leap year!\")\n",
    "    else:\n",
    "        print(\"Leap!\")\n",
    "else:\n",
    "    print(\"Not a Leap year!\")"
   ]
  }
 ],
 "metadata": {
  "kernelspec": {
   "display_name": "Python 3 (ipykernel)",
   "language": "python",
   "name": "python3"
  },
  "language_info": {
   "codemirror_mode": {
    "name": "ipython",
    "version": 3
   },
   "file_extension": ".py",
   "mimetype": "text/x-python",
   "name": "python",
   "nbconvert_exporter": "python",
   "pygments_lexer": "ipython3",
   "version": "3.9.12"
  }
 },
 "nbformat": 4,
 "nbformat_minor": 5
}
